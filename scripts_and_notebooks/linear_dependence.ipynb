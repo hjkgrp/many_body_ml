{
 "cells": [
  {
   "cell_type": "code",
   "execution_count": 1,
   "metadata": {},
   "outputs": [],
   "source": [
    "import numpy as np"
   ]
  },
  {
   "cell_type": "markdown",
   "metadata": {},
   "source": [
    "# Two-body model\n",
    "## 2 Ligands"
   ]
  },
  {
   "cell_type": "code",
   "execution_count": 2,
   "metadata": {},
   "outputs": [
    {
     "name": "stdout",
     "output_type": "stream",
     "text": [
      "[[6 0]\n",
      " [5 1]\n",
      " [4 2]\n",
      " [4 2]\n",
      " [3 3]\n",
      " [3 3]\n",
      " [2 4]\n",
      " [2 4]\n",
      " [1 5]\n",
      " [0 6]]\n"
     ]
    }
   ],
   "source": [
    "x = np.array([6, 5, 4, 4, 3, 3, 2, 2, 1, 0])\n",
    "N = np.stack([x, 6 - x], axis=1)\n",
    "print(N)"
   ]
  },
  {
   "cell_type": "code",
   "execution_count": 3,
   "metadata": {},
   "outputs": [
    {
     "data": {
      "text/plain": [
       "2"
      ]
     },
     "execution_count": 3,
     "metadata": {},
     "output_type": "execute_result"
    }
   ],
   "source": [
    "np.linalg.matrix_rank(N)"
   ]
  },
  {
   "cell_type": "markdown",
   "metadata": {},
   "source": [
    "# Three-body model\n",
    "\n",
    "## 2 Ligands"
   ]
  },
  {
   "cell_type": "code",
   "execution_count": 60,
   "metadata": {},
   "outputs": [
    {
     "name": "stdout",
     "output_type": "stream",
     "text": [
      "4\n"
     ]
    }
   ],
   "source": [
    "N_2 = np.array(\n",
    "    [\n",
    "        # [6, 0, 12, 0, 0, 3, 0, 0],  # homoleptic\n",
    "        [5, 1, 8, 4, 0, 2, 1, 0],  # 5+1\n",
    "        [4, 2, 5, 6, 1, 1, 2, 0],  # 4+2 cis\n",
    "        [4, 2, 4, 8, 0, 2, 0, 1],  # 4+2 trans\n",
    "        [3, 3, 3, 6, 3, 0, 3, 0],  # 3+3 fac\n",
    "        [3, 3, 2, 8, 2, 1, 1, 1],  # 3+3 mer\n",
    "        [2, 4, 1, 6, 5, 0, 2, 1],  # 4+2 cis\n",
    "        [2, 4, 0, 8, 4, 1, 0, 2],  # 4+2 trans\n",
    "        [1, 5, 0, 4, 8, 0, 1, 2],  # 5+1\n",
    "        # [0, 6, 0, 0, 12, 0, 0, 3],  # homoleptic\n",
    "    ]\n",
    ")\n",
    "# Assert that N_A + N_B = 6\n",
    "np.testing.assert_equal(np.sum(N_2[:, :2], axis=1), 6 * np.ones(len(N_2)))\n",
    "# Assert that N^cis_AA + N^cis_AB + N^cis_BB = 12\n",
    "np.testing.assert_equal(np.sum(N_2[:, 2:5], axis=1), 12 * np.ones(len(N_2)))\n",
    "# Assert that N^trans_AA + N^trans_AB + N^trans_BB = 3\n",
    "np.testing.assert_equal(np.sum(N_2[:, 5:], axis=1), 3 * np.ones(len(N_2)))\n",
    "\n",
    "# Cis terms\n",
    "np.testing.assert_equal(2 * N_2[:, 2], 4 * N_2[:, 0] - N_2[:, 3])  # AA\n",
    "np.testing.assert_equal(2 * N_2[:, 4], 4 * N_2[:, 1] - N_2[:, 3])  # BB\n",
    "# Trans terms\n",
    "np.testing.assert_equal(2 * N_2[:, 5], N_2[:, 0] - N_2[:, 6])  # AA\n",
    "np.testing.assert_equal(2 * N_2[:, 7], N_2[:, 1] - N_2[:, 6])  # BB\n",
    "\n",
    "print(np.linalg.matrix_rank(N_2))"
   ]
  },
  {
   "cell_type": "markdown",
   "metadata": {},
   "source": [
    "## 3 Ligands\n",
    "$[q_A, q_B, q_C, q^{cis}_{AA}, q^{cis}_{BB}, q^{cis}_{CC}, q^{cis}_{AB}, q^{cis}_{AC}, q^{cis}_{BC}, q^{trans}_{AA}, q^{trans}_{BB}, q^{trans}_{CC}, q^{trans}_{AB}, q^{trans}_{AC}, q^{trans}_{BC}] $  "
   ]
  },
  {
   "cell_type": "code",
   "execution_count": 87,
   "metadata": {},
   "outputs": [],
   "source": [
    "def swap_AB(vec):\n",
    "    return [vec[i] for i in (1, 0, 2, 4, 3, 5, 6, 8, 7, 10, 9, 11, 12, 14, 13)]\n",
    "\n",
    "\n",
    "def swap_AC(vec):\n",
    "    return [vec[i] for i in (2, 1, 0, 5, 4, 3, 8, 7, 6, 11, 10, 9, 14, 13, 12)]\n",
    "\n",
    "\n",
    "def swap_BC(vec):\n",
    "    return swap_AB(swap_AC(swap_AB(vec)))\n",
    "\n",
    "\n",
    "np.testing.assert_equal(\n",
    "    swap_AB([4, 1, 1, 5, 0, 0, 3, 3, 1, 1, 0, 0, 1, 1, 0]),\n",
    "    [1, 4, 1, 0, 5, 0, 3, 1, 3, 0, 1, 0, 1, 0, 1],\n",
    ")\n",
    "np.testing.assert_equal(\n",
    "    swap_AB([4, 1, 1, 4, 0, 0, 4, 4, 0, 2, 0, 0, 0, 0, 1]),\n",
    "    [1, 4, 1, 0, 4, 0, 4, 0, 4, 0, 2, 0, 0, 1, 0],\n",
    ")\n",
    "np.testing.assert_equal(\n",
    "    swap_AC([4, 1, 1, 5, 0, 0, 3, 3, 1, 1, 0, 0, 1, 1, 0]),\n",
    "    [1, 1, 4, 0, 0, 5, 1, 3, 3, 0, 0, 1, 0, 1, 1],\n",
    ")"
   ]
  },
  {
   "cell_type": "code",
   "execution_count": 89,
   "metadata": {},
   "outputs": [
    {
     "name": "stdout",
     "output_type": "stream",
     "text": [
      "9\n"
     ]
    }
   ],
   "source": [
    "N_3 = np.array(\n",
    "    [\n",
    "        # 4 A + 1 B + 1 C\n",
    "        [4, 1, 1, 5, 0, 0, 3, 3, 1, 1, 0, 0, 1, 1, 0],  # CA\n",
    "        [4, 1, 1, 4, 0, 0, 4, 4, 0, 2, 0, 0, 0, 0, 1],  # TA\n",
    "        # 1 A + 4 B + 1 C\n",
    "        swap_AB([4, 1, 1, 5, 0, 0, 3, 3, 1, 1, 0, 0, 1, 1, 0]),  # CA\n",
    "        swap_AB([4, 1, 1, 4, 0, 0, 4, 4, 0, 2, 0, 0, 0, 0, 1]),  # TA\n",
    "        # 1 A + 1 B + 4 C\n",
    "        swap_AC([4, 1, 1, 5, 0, 0, 3, 3, 1, 1, 0, 0, 1, 1, 0]),  # CA\n",
    "        swap_AC([4, 1, 1, 4, 0, 0, 4, 4, 0, 2, 0, 0, 0, 0, 1]),  # TA\n",
    "        # 3 A + 2 B + 1 C\n",
    "        [3, 2, 1, 3, 1, 0, 4, 2, 2, 0, 0, 0, 2, 1, 0],  # FA\n",
    "        [3, 2, 1, 2, 0, 0, 6, 2, 2, 1, 1, 0, 0, 1, 0],  # MAT\n",
    "        [3, 2, 1, 2, 1, 0, 5, 3, 1, 1, 0, 0, 1, 0, 1],  # MAC\n",
    "        # 3 A + 1 B + 2 C\n",
    "        swap_AC([3, 2, 1, 3, 1, 0, 4, 2, 2, 0, 0, 0, 2, 1, 0]),  # FA\n",
    "        swap_AC([3, 2, 1, 2, 0, 0, 6, 2, 2, 1, 1, 0, 0, 1, 0]),  # MAT\n",
    "        swap_AC([3, 2, 1, 2, 1, 0, 5, 3, 1, 1, 0, 0, 1, 0, 1]),  # MAC\n",
    "        # 2 A + 3 B + 1 C\n",
    "        swap_AB([3, 2, 1, 3, 1, 0, 4, 2, 2, 0, 0, 0, 2, 1, 0]),  # FA\n",
    "        swap_AB([3, 2, 1, 2, 0, 0, 6, 2, 2, 1, 1, 0, 0, 1, 0]),  # MAT\n",
    "        swap_AB([3, 2, 1, 2, 1, 0, 5, 3, 1, 1, 0, 0, 1, 0, 1]),  # MAC\n",
    "        # 2 A + 1 B + 3 C\n",
    "        swap_AC(swap_AB([3, 2, 1, 3, 1, 0, 4, 2, 2, 0, 0, 0, 2, 1, 0])),  # FA\n",
    "        swap_AC(swap_AB([3, 2, 1, 2, 0, 0, 6, 2, 2, 1, 1, 0, 0, 1, 0])),  # MAT\n",
    "        swap_AC(swap_AB([3, 2, 1, 2, 1, 0, 5, 3, 1, 1, 0, 0, 1, 0, 1])),  # MAC\n",
    "        # 1 A + 2 B + 3 C\n",
    "        swap_AC([3, 2, 1, 3, 1, 0, 4, 2, 2, 0, 0, 0, 2, 1, 0]),  # FA\n",
    "        swap_AC([3, 2, 1, 2, 0, 0, 6, 2, 2, 1, 1, 0, 0, 1, 0]),  # MAT\n",
    "        swap_AC([3, 2, 1, 2, 1, 0, 5, 3, 1, 1, 0, 0, 1, 0, 1]),  # MAC\n",
    "        # 1 A + 3 B + 2 C\n",
    "        swap_AC(swap_AB([3, 2, 1, 3, 1, 0, 4, 2, 2, 0, 0, 0, 2, 1, 0])),  # FA\n",
    "        swap_AC(swap_AB([3, 2, 1, 2, 0, 0, 6, 2, 2, 1, 1, 0, 0, 1, 0])),  # MAT\n",
    "        swap_AC(swap_AB([3, 2, 1, 2, 1, 0, 5, 3, 1, 1, 0, 0, 1, 0, 1])),  # MAC\n",
    "        # 2 A + 2 B + 2 C\n",
    "        [2, 2, 2, 1, 1, 0, 2, 4, 4, 0, 0, 1, 2, 0, 0],  # EA (C trans)\n",
    "        [2, 2, 2, 1, 0, 1, 4, 2, 4, 0, 1, 0, 0, 2, 0],  # EA (B trans)\n",
    "        [2, 2, 2, 0, 1, 1, 4, 4, 2, 1, 0, 0, 0, 0, 2],  # EA (A trans)\n",
    "        [2, 2, 2, 1, 1, 1, 3, 3, 3, 0, 0, 0, 1, 1, 1],  # DCS\n",
    "        [2, 2, 2, 0, 0, 0, 4, 4, 4, 1, 1, 1, 0, 0, 0],  # DTS\n",
    "    ]\n",
    ")\n",
    "# Assert that the two-body terms sum to 6\n",
    "np.testing.assert_equal(np.sum(N_3[:, :3], axis=1), 6 * np.ones(len(N_3)))\n",
    "# Assert that the three-body cis terms sum to 12\n",
    "np.testing.assert_equal(np.sum(N_3[:, 3:9], axis=1), 12 * np.ones(len(N_3)))\n",
    "# Assert that the three-body trans terms sum to 12\n",
    "np.testing.assert_equal(np.sum(N_3[:, 9:], axis=1), 3 * np.ones(len(N_3)))\n",
    "\n",
    "# Cis terms\n",
    "np.testing.assert_equal(2 * N_3[:, 3], 4 * N_3[:, 0] - N_3[:, 6] - N_3[:, 7])  # AA\n",
    "np.testing.assert_equal(2 * N_3[:, 4], 4 * N_3[:, 1] - N_3[:, 6] - N_3[:, 8])  # BB\n",
    "np.testing.assert_equal(2 * N_3[:, 5], 4 * N_3[:, 2] - N_3[:, 7] - N_3[:, 8])  # CC\n",
    "# Trans terms\n",
    "np.testing.assert_equal(2 * N_3[:, 9], N_3[:, 0] - N_3[:, 12] - N_3[:, 13])  # AA\n",
    "np.testing.assert_equal(2 * N_3[:, 10], N_3[:, 1] - N_3[:, 12] - N_3[:, 14])  # BB\n",
    "np.testing.assert_equal(2 * N_3[:, 11], N_3[:, 2] - N_3[:, 13] - N_3[:, 14])  # CC\n",
    "\n",
    "print(np.linalg.matrix_rank(N_3))"
   ]
  },
  {
   "cell_type": "markdown",
   "metadata": {},
   "source": [
    "# Archive"
   ]
  },
  {
   "cell_type": "code",
   "execution_count": 90,
   "metadata": {},
   "outputs": [
    {
     "name": "stdout",
     "output_type": "stream",
     "text": [
      "4\n"
     ]
    }
   ],
   "source": [
    "A = np.array(\n",
    "    [\n",
    "        [6, 0, 12, 0, 0, 3, 0, 0],\n",
    "        [5, 1, 8, 4, 0, 2, 1, 0],\n",
    "        [4, 2, 5, 6, 1, 1, 2, 0],\n",
    "        [4, 2, 4, 8, 0, 2, 0, 1],\n",
    "        [3, 3, 3, 6, 3, 0, 3, 0],\n",
    "        [3, 3, 2, 8, 2, 1, 1, 1],\n",
    "        [2, 4, 1, 6, 5, 0, 2, 1],\n",
    "        [2, 4, 0, 8, 4, 1, 0, 2],\n",
    "        [1, 5, 0, 4, 8, 0, 1, 2],\n",
    "        [0, 6, 0, 0, 12, 0, 0, 3],\n",
    "    ]\n",
    ")\n",
    "# Assert that N_A + N_B = 6\n",
    "np.testing.assert_equal(np.sum(A[:, :2], axis=1), 6 * np.ones(10))\n",
    "# Assert that N^cis_AA + N^cis_AB + N^cis_BB = 12\n",
    "np.testing.assert_equal(np.sum(A[:, 2:5], axis=1), 12 * np.ones(10))\n",
    "# Assert that N^trans_AA + N^trans_AB + N^trans_BB = 3\n",
    "np.testing.assert_equal(np.sum(A[:, 5:], axis=1), 3 * np.ones(10))\n",
    "\n",
    "print(np.linalg.matrix_rank(A))"
   ]
  },
  {
   "cell_type": "code",
   "execution_count": 160,
   "metadata": {},
   "outputs": [
    {
     "name": "stdout",
     "output_type": "stream",
     "text": [
      "[ 0  0  1 -2  1 -1  2 -1]\n"
     ]
    }
   ],
   "source": [
    "# Cis/Trans splitting:\n",
    "cis_trans_split = A[2, :] - A[3, :]\n",
    "# Fac/Mer splitting\n",
    "fac_mer_split = A[4, :] - A[5, :]\n",
    "# Assert they are the same\n",
    "np.testing.assert_array_equal(cis_trans_split, fac_mer_split)\n",
    "print(fac_mer_split)"
   ]
  },
  {
   "cell_type": "code",
   "execution_count": 188,
   "metadata": {},
   "outputs": [
    {
     "name": "stdout",
     "output_type": "stream",
     "text": [
      "[ 0.   0.  -2.   4.  -2.  -0.5  1.  -0.5]\n"
     ]
    }
   ],
   "source": [
    "curvature_51 = A[1, :] - (5 * A[0, :] + 1 * A[-1, :]) / 6\n",
    "np.testing.assert_equal(curvature_51, A[-2, :] - (1 * A[0, :] + 5 * A[-1, :]) / 6)\n",
    "print(curvature_51)"
   ]
  },
  {
   "cell_type": "code",
   "execution_count": 186,
   "metadata": {},
   "outputs": [
    {
     "name": "stdout",
     "output_type": "stream",
     "text": [
      "4\n"
     ]
    },
    {
     "data": {
      "text/plain": [
       "array([[ 0.00000000e+00,  0.00000000e+00,  0.00000000e+00,\n",
       "         0.00000000e+00,  0.00000000e+00,  0.00000000e+00,\n",
       "         0.00000000e+00,  0.00000000e+00],\n",
       "       [ 0.00000000e+00,  0.00000000e+00,  0.00000000e+00,\n",
       "         0.00000000e+00,  0.00000000e+00,  0.00000000e+00,\n",
       "         0.00000000e+00,  0.00000000e+00],\n",
       "       [ 0.00000000e+00,  0.00000000e+00, -8.88178420e-16,\n",
       "         0.00000000e+00,  0.00000000e+00,  0.00000000e+00,\n",
       "         0.00000000e+00,  0.00000000e+00],\n",
       "       [ 0.00000000e+00,  0.00000000e+00,  0.00000000e+00,\n",
       "         0.00000000e+00,  0.00000000e+00, -2.22044605e-16,\n",
       "         0.00000000e+00,  0.00000000e+00],\n",
       "       [ 0.00000000e+00,  0.00000000e+00, -4.44089210e-16,\n",
       "         0.00000000e+00, -4.44089210e-16,  0.00000000e+00,\n",
       "         0.00000000e+00,  0.00000000e+00],\n",
       "       [ 0.00000000e+00,  0.00000000e+00, -4.44089210e-16,\n",
       "         0.00000000e+00, -4.44089210e-16, -1.11022302e-16,\n",
       "         0.00000000e+00, -1.11022302e-16],\n",
       "       [ 0.00000000e+00,  0.00000000e+00,  0.00000000e+00,\n",
       "         0.00000000e+00, -8.88178420e-16,  0.00000000e+00,\n",
       "         0.00000000e+00,  0.00000000e+00],\n",
       "       [ 0.00000000e+00,  0.00000000e+00,  0.00000000e+00,\n",
       "         0.00000000e+00,  0.00000000e+00,  0.00000000e+00,\n",
       "         0.00000000e+00, -2.22044605e-16],\n",
       "       [ 0.00000000e+00,  0.00000000e+00,  0.00000000e+00,\n",
       "         0.00000000e+00,  0.00000000e+00,  0.00000000e+00,\n",
       "         0.00000000e+00,  0.00000000e+00],\n",
       "       [ 0.00000000e+00,  0.00000000e+00,  0.00000000e+00,\n",
       "         0.00000000e+00,  0.00000000e+00,  0.00000000e+00,\n",
       "         0.00000000e+00,  0.00000000e+00]])"
      ]
     },
     "execution_count": 186,
     "metadata": {},
     "output_type": "execute_result"
    }
   ],
   "source": [
    "a = np.array([6, 0, 12, 0, 0, 3, 0, 0]) / 6\n",
    "b = np.array([0, 6, 0, 0, 12, 0, 0, 3]) / 6\n",
    "\n",
    "X = np.stack([a, b, fac_mer_split, curvature_51])\n",
    "B = np.array(\n",
    "    [\n",
    "        [6, 0, 0, 0],\n",
    "        [5, 1, 0, 1],\n",
    "        [4, 2, 0.2, 1.6],\n",
    "        [4, 2, -0.8, 1.6],\n",
    "        [3, 3, 0.6, 1.8],\n",
    "        [3, 3, -0.4, 1.8],\n",
    "        [2, 4, 0.2, 1.6],\n",
    "        [2, 4, -0.8, 1.6],\n",
    "        [1, 5, 0, 1],\n",
    "        [0, 6, 0, 0],\n",
    "    ]\n",
    ")\n",
    "print(np.linalg.matrix_rank(B @ X - A))\n",
    "B @ X - A"
   ]
  },
  {
   "cell_type": "code",
   "execution_count": 96,
   "metadata": {},
   "outputs": [
    {
     "data": {
      "text/plain": [
       "2"
      ]
     },
     "execution_count": 96,
     "metadata": {},
     "output_type": "execute_result"
    }
   ],
   "source": [
    "np.linalg.matrix_rank(B[:, :2] @ X[:2, :] - A)"
   ]
  },
  {
   "cell_type": "code",
   "execution_count": 97,
   "metadata": {},
   "outputs": [
    {
     "data": {
      "text/plain": [
       "array([ 0. ,  0. ,  0.5, -1. ,  0.5, -0.5,  1. , -0.5])"
      ]
     },
     "execution_count": 97,
     "metadata": {},
     "output_type": "execute_result"
    }
   ],
   "source": [
    "fac_mer_split"
   ]
  },
  {
   "cell_type": "code",
   "execution_count": 98,
   "metadata": {},
   "outputs": [
    {
     "data": {
      "text/plain": [
       "array([[ 6,  0, 12,  0,  0,  3,  0,  0],\n",
       "       [ 5,  1,  8,  4,  0,  2,  1,  0],\n",
       "       [ 4,  2,  5,  6,  1,  1,  2,  0],\n",
       "       [ 4,  2,  4,  8,  0,  2,  0,  1],\n",
       "       [ 3,  3,  3,  6,  3,  0,  3,  0],\n",
       "       [ 3,  3,  2,  8,  2,  1,  1,  1],\n",
       "       [ 2,  4,  1,  6,  5,  0,  2,  1],\n",
       "       [ 2,  4,  0,  8,  4,  1,  0,  2],\n",
       "       [ 1,  5,  0,  4,  8,  0,  1,  2],\n",
       "       [ 0,  6,  0,  0, 12,  0,  0,  3]])"
      ]
     },
     "execution_count": 98,
     "metadata": {},
     "output_type": "execute_result"
    }
   ],
   "source": [
    "A"
   ]
  },
  {
   "cell_type": "code",
   "execution_count": 99,
   "metadata": {},
   "outputs": [
    {
     "data": {
      "text/plain": [
       "4"
      ]
     },
     "execution_count": 99,
     "metadata": {},
     "output_type": "execute_result"
    }
   ],
   "source": [
    "C = A[(True, True, False, True, False, True, False, True, True, True), :]\n",
    "np.linalg.matrix_rank(C)"
   ]
  },
  {
   "cell_type": "code",
   "execution_count": 100,
   "metadata": {},
   "outputs": [
    {
     "data": {
      "text/plain": [
       "3"
      ]
     },
     "execution_count": 100,
     "metadata": {},
     "output_type": "execute_result"
    }
   ],
   "source": [
    "np.linalg.matrix_rank(A[:, [True, True, False, False, False, True, True, True]])"
   ]
  },
  {
   "cell_type": "code",
   "execution_count": 101,
   "metadata": {},
   "outputs": [],
   "source": [
    "A_reduced = A[:, [True, True, False, True, False, False, True, False]]"
   ]
  },
  {
   "cell_type": "code",
   "execution_count": 102,
   "metadata": {},
   "outputs": [
    {
     "name": "stdout",
     "output_type": "stream",
     "text": [
      "[ 0.  0. -1.  1.]\n"
     ]
    }
   ],
   "source": [
    "# Cis/Trans splitting:\n",
    "cis_trans_split = (A_reduced[2, :] - A_reduced[3, :]) / 2\n",
    "# Fac/Mer splitting\n",
    "fac_mer_split = (A_reduced[4, :] - A_reduced[5, :]) / 2\n",
    "# Assert they are the same\n",
    "np.testing.assert_array_equal(cis_trans_split, fac_mer_split)\n",
    "print(fac_mer_split)"
   ]
  },
  {
   "cell_type": "code",
   "execution_count": 149,
   "metadata": {},
   "outputs": [
    {
     "name": "stdout",
     "output_type": "stream",
     "text": [
      "[0. 0. 7. 2.]\n",
      "[0. 0. 6. 3.]\n",
      "[0. 0. 8. 1.]\n",
      "[0. 0. 7. 1.]\n",
      "[0. 0. 6. 2.]\n",
      "[0. 0. 8. 0.]\n",
      "[0. 0. 4. 1.]\n"
     ]
    }
   ],
   "source": [
    "curvature_facmer = (A_reduced[4, :] + A_reduced[5, :]) / 2 - (\n",
    "    3 * A_reduced[0, :] + 3 * A_reduced[-1, :]\n",
    ") / 6\n",
    "print(curvature_facmer)\n",
    "curvature_fac = A_reduced[4, :] - (3 * A_reduced[0, :] + 3 * A_reduced[-1, :]) / 6\n",
    "print(curvature_fac)\n",
    "curvature_mer = A_reduced[5, :] - (3 * A_reduced[0, :] + 3 * A_reduced[-1, :]) / 6\n",
    "print(curvature_mer)\n",
    "curvature_cistrans = (A_reduced[2, :] + A_reduced[3, :]) / 2 - (\n",
    "    4 * A_reduced[0, :] + 2 * A_reduced[-1, :]\n",
    ") / 6\n",
    "print(curvature_cistrans)\n",
    "curvature_cis = A_reduced[2, :] - (4 * A_reduced[0, :] + 2 * A_reduced[-1, :]) / 6\n",
    "print(curvature_cis)\n",
    "curvature_trans = A_reduced[3, :] - (4 * A_reduced[0, :] + 2 * A_reduced[-1, :]) / 6\n",
    "print(curvature_trans)\n",
    "curvature_51 = A_reduced[1, :] - (5 * A_reduced[0, :] + 1 * A_reduced[-1, :]) / 6\n",
    "print(curvature_51)"
   ]
  },
  {
   "cell_type": "code",
   "execution_count": 159,
   "metadata": {},
   "outputs": [
    {
     "name": "stdout",
     "output_type": "stream",
     "text": [
      "1\n"
     ]
    },
    {
     "data": {
      "text/plain": [
       "array([[0.0000000e+00, 0.0000000e+00, 0.0000000e+00, 0.0000000e+00],\n",
       "       [0.0000000e+00, 0.0000000e+00, 0.0000000e+00, 0.0000000e+00],\n",
       "       [0.0000000e+00, 0.0000000e+00, 0.0000000e+00, 0.0000000e+00],\n",
       "       [0.0000000e+00, 0.0000000e+00, 0.0000000e+00, 0.0000000e+00],\n",
       "       [0.0000000e+00, 0.0000000e+00, 0.0000000e+00, 4.4408921e-16],\n",
       "       [0.0000000e+00, 0.0000000e+00, 0.0000000e+00, 0.0000000e+00],\n",
       "       [0.0000000e+00, 0.0000000e+00, 0.0000000e+00, 0.0000000e+00],\n",
       "       [0.0000000e+00, 0.0000000e+00, 0.0000000e+00, 0.0000000e+00],\n",
       "       [0.0000000e+00, 0.0000000e+00, 0.0000000e+00, 0.0000000e+00],\n",
       "       [0.0000000e+00, 0.0000000e+00, 0.0000000e+00, 0.0000000e+00]])"
      ]
     },
     "execution_count": 159,
     "metadata": {},
     "output_type": "execute_result"
    }
   ],
   "source": [
    "a = np.array([1, 0, 0, 0])\n",
    "b = np.array([0, 1, 0, 0])\n",
    "\n",
    "X = np.stack([a, b, 2 * fac_mer_split / 5, curvature_51 / 5])\n",
    "B = np.array(\n",
    "    [\n",
    "        [6, 0, 0, 0],\n",
    "        [5, 1, 0, 5],\n",
    "        [4, 2, 1, 8],\n",
    "        [4, 2, -4, 8],\n",
    "        [3, 3, 3, 9],\n",
    "        [3, 3, -2, 9],\n",
    "        [2, 4, 1, 8],\n",
    "        [2, 4, -4, 8],\n",
    "        [1, 5, 0, 5],\n",
    "        [0, 6, 0, 0],\n",
    "    ]\n",
    ")\n",
    "print(np.linalg.matrix_rank(B @ X - A_reduced))\n",
    "B @ X - A_reduced"
   ]
  },
  {
   "cell_type": "code",
   "execution_count": 144,
   "metadata": {},
   "outputs": [
    {
     "name": "stdout",
     "output_type": "stream",
     "text": [
      "1\n"
     ]
    },
    {
     "data": {
      "text/plain": [
       "array([[0. , 0. , 0. , 0. ],\n",
       "       [0. , 0. , 3. , 1. ],\n",
       "       [0. , 0. , 4.8, 1.6],\n",
       "       [0. , 0. , 4.8, 1.6],\n",
       "       [0. , 0. , 5.4, 1.8],\n",
       "       [0. , 0. , 5.4, 1.8],\n",
       "       [0. , 0. , 4.8, 1.6],\n",
       "       [0. , 0. , 4.8, 1.6],\n",
       "       [0. , 0. , 3. , 1. ],\n",
       "       [0. , 0. , 0. , 0. ]])"
      ]
     },
     "execution_count": 144,
     "metadata": {},
     "output_type": "execute_result"
    }
   ],
   "source": [
    "a = np.array([1, 0, 0, 0])\n",
    "b = np.array([0, 1, 0, 0])\n",
    "\n",
    "X = np.stack([a, b, fac_mer_split, curvature_facmer])\n",
    "B = np.array(\n",
    "    [\n",
    "        [6, 0, 0, 0],\n",
    "        [5, 1, 0, 1],\n",
    "        [4, 2, 0.4, 1.6],\n",
    "        [4, 2, -1.6, 1.6],\n",
    "        [3, 3, 1.2, 1.8],\n",
    "        [3, 3, -0.8, 1.8],\n",
    "        [2, 4, 0.4, 1.6],\n",
    "        [2, 4, -1.6, 1.6],\n",
    "        [1, 5, 0, 1],\n",
    "        [0, 6, 0, 0],\n",
    "    ]\n",
    ")\n",
    "print(np.linalg.matrix_rank(B @ X - A_reduced))\n",
    "B @ X - A_reduced"
   ]
  },
  {
   "cell_type": "code",
   "execution_count": 145,
   "metadata": {},
   "outputs": [
    {
     "data": {
      "text/plain": [
       "array([[ 6.        ,  0.        ,  0.        ,  0.        ],\n",
       "       [ 5.        ,  1.        , -0.11111111,  0.55555556],\n",
       "       [ 4.        ,  2.        ,  0.22222222,  0.88888889],\n",
       "       [ 4.        ,  2.        , -1.77777778,  0.88888889],\n",
       "       [ 3.        ,  3.        ,  1.        ,  1.        ],\n",
       "       [ 3.        ,  3.        , -1.        ,  1.        ],\n",
       "       [ 2.        ,  4.        ,  0.22222222,  0.88888889],\n",
       "       [ 2.        ,  4.        , -1.77777778,  0.88888889],\n",
       "       [ 1.        ,  5.        , -0.11111111,  0.55555556],\n",
       "       [ 0.        ,  6.        ,  0.        ,  0.        ]])"
      ]
     },
     "execution_count": 145,
     "metadata": {},
     "output_type": "execute_result"
    }
   ],
   "source": [
    "A_reduced @ np.linalg.pinv(X)"
   ]
  },
  {
   "cell_type": "code",
   "execution_count": null,
   "metadata": {},
   "outputs": [],
   "source": []
  }
 ],
 "metadata": {
  "kernelspec": {
   "display_name": "many-body",
   "language": "python",
   "name": "python3"
  },
  "language_info": {
   "codemirror_mode": {
    "name": "ipython",
    "version": 3
   },
   "file_extension": ".py",
   "mimetype": "text/x-python",
   "name": "python",
   "nbconvert_exporter": "python",
   "pygments_lexer": "ipython3",
   "version": "3.8.18"
  }
 },
 "nbformat": 4,
 "nbformat_minor": 2
}
