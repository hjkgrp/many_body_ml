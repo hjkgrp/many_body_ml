{
 "cells": [
  {
   "cell_type": "code",
   "execution_count": 1,
   "metadata": {},
   "outputs": [],
   "source": [
    "import numpy as np"
   ]
  },
  {
   "cell_type": "markdown",
   "metadata": {},
   "source": [
    "# Two-body model\n",
    "Binary complex  \n",
    "$$\n",
    "\\begin{bmatrix}\n",
    "6 & 0 \\\\\n",
    "5 & 1 \\\\\n",
    "\\end{bmatrix}\n",
    "$$"
   ]
  },
  {
   "cell_type": "code",
   "execution_count": 9,
   "metadata": {},
   "outputs": [
    {
     "name": "stdout",
     "output_type": "stream",
     "text": [
      "[[6 0]\n",
      " [5 1]\n",
      " [4 2]\n",
      " [4 2]\n",
      " [3 3]\n",
      " [3 3]\n",
      " [2 4]\n",
      " [2 4]\n",
      " [1 5]\n",
      " [0 6]]\n"
     ]
    }
   ],
   "source": [
    "x = np.array([6, 5, 4, 4, 3, 3, 2, 2, 1, 0])\n",
    "A = np.stack([x, 6 - x], axis=1)\n",
    "print(A)"
   ]
  },
  {
   "cell_type": "code",
   "execution_count": 7,
   "metadata": {},
   "outputs": [
    {
     "data": {
      "text/plain": [
       "2"
      ]
     },
     "execution_count": 7,
     "metadata": {},
     "output_type": "execute_result"
    }
   ],
   "source": [
    "np.linalg.matrix_rank(A)"
   ]
  },
  {
   "cell_type": "markdown",
   "metadata": {},
   "source": [
    "# Three-body model"
   ]
  },
  {
   "cell_type": "code",
   "execution_count": 20,
   "metadata": {},
   "outputs": [
    {
     "name": "stdout",
     "output_type": "stream",
     "text": [
      "4\n"
     ]
    }
   ],
   "source": [
    "A = np.array(\n",
    "    [\n",
    "        [6, 0, 12, 0, 0, 3, 0, 0],\n",
    "        [5, 1, 8, 4, 0, 2, 1, 0],\n",
    "        [4, 2, 5, 6, 1, 1, 2, 0],\n",
    "        [4, 2, 4, 8, 0, 2, 0, 1],\n",
    "        [3, 3, 3, 6, 3, 0, 3, 0],\n",
    "        [3, 3, 2, 8, 2, 1, 1, 1],\n",
    "        [2, 4, 1, 6, 5, 0, 2, 1],\n",
    "        [2, 4, 0, 8, 4, 1, 0, 2],\n",
    "        [1, 5, 0, 4, 8, 0, 1, 2],\n",
    "        [0, 6, 0, 0, 12, 0, 0, 3],\n",
    "    ]\n",
    ")\n",
    "# Assert that N_A + N_B = 6\n",
    "np.testing.assert_equal(np.sum(A[:, :2], axis=1), 6 * np.ones(10))\n",
    "# Assert that N^cis_AA + N^cis_AB + N^cis_BB = 12\n",
    "np.testing.assert_equal(np.sum(A[:, 2:5], axis=1), 12 * np.ones(10))\n",
    "# Assert that N^trans_AA + N^trans_AB + N^trans_BB = 3\n",
    "np.testing.assert_equal(np.sum(A[:, 5:], axis=1), 3 * np.ones(10))\n",
    "\n",
    "print(np.linalg.matrix_rank(A))"
   ]
  },
  {
   "cell_type": "code",
   "execution_count": 61,
   "metadata": {},
   "outputs": [
    {
     "name": "stdout",
     "output_type": "stream",
     "text": [
      "[ 0.   0.   0.5 -1.   0.5 -0.5  1.  -0.5]\n"
     ]
    }
   ],
   "source": [
    "# Cis/Trans splitting:\n",
    "cis_trans_split = (A[2, :] - A[3, :]) / 2\n",
    "# Fac/Mer splitting\n",
    "fac_mer_split = (A[4, :] - A[5, :]) / 2\n",
    "# Assert they are the same\n",
    "np.testing.assert_array_equal(cis_trans_split, fac_mer_split)\n",
    "print(fac_mer_split)"
   ]
  },
  {
   "cell_type": "code",
   "execution_count": 62,
   "metadata": {},
   "outputs": [
    {
     "name": "stdout",
     "output_type": "stream",
     "text": [
      "[ 0.  0. -8. -4.  0. -2. -1.  0.]\n",
      "[ 0.   0.  -4.5 -7.  -0.5 -1.5 -1.  -0.5]\n",
      "[ 0.   0.  -2.5 -7.  -2.5 -0.5 -2.  -0.5]\n",
      "[ 0.   0.  -0.5 -7.  -4.5 -0.5 -1.  -1.5]\n",
      "[ 0.  0.  0. -4. -8.  0. -1. -2.]\n"
     ]
    }
   ],
   "source": [
    "# Curvature\n",
    "a = np.array([6, 0, 0, 0, 0, 0, 0, 0])\n",
    "b = np.array([0, 6, 0, 0, 0, 0, 0, 0])\n",
    "print((5 * a + 1 * b) / 6 - A[1, :])\n",
    "print((4 * a + 2 * b) / 6 - (A[2, :] + A[3, :]) / 2)\n",
    "print((3 * a + 3 * b) / 6 - (A[4, :] + A[5, :]) / 2)\n",
    "print((2 * a + 4 * b) / 6 - (A[6, :] + A[7, :]) / 2)\n",
    "print((1 * a + 5 * b) / 6 - A[8, :])"
   ]
  },
  {
   "cell_type": "code",
   "execution_count": 36,
   "metadata": {},
   "outputs": [
    {
     "data": {
      "text/plain": [
       "array([6, 5, 4, 4, 3, 3, 2, 2, 1, 0])"
      ]
     },
     "execution_count": 36,
     "metadata": {},
     "output_type": "execute_result"
    }
   ],
   "source": [
    "A[:, 0]"
   ]
  },
  {
   "cell_type": "code",
   "execution_count": 39,
   "metadata": {},
   "outputs": [
    {
     "data": {
      "text/plain": [
       "array([15, 10,  6,  6,  3,  3,  1,  1,  0,  0])"
      ]
     },
     "execution_count": 39,
     "metadata": {},
     "output_type": "execute_result"
    }
   ],
   "source": [
    "A[:, 2] + A[:, 5]"
   ]
  },
  {
   "cell_type": "code",
   "execution_count": null,
   "metadata": {},
   "outputs": [],
   "source": []
  }
 ],
 "metadata": {
  "kernelspec": {
   "display_name": "many-body",
   "language": "python",
   "name": "python3"
  },
  "language_info": {
   "codemirror_mode": {
    "name": "ipython",
    "version": 3
   },
   "file_extension": ".py",
   "mimetype": "text/x-python",
   "name": "python",
   "nbconvert_exporter": "python",
   "pygments_lexer": "ipython3",
   "version": "3.8.18"
  }
 },
 "nbformat": 4,
 "nbformat_minor": 2
}
