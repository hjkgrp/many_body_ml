{
 "cells": [
  {
   "cell_type": "code",
   "execution_count": 4,
   "metadata": {},
   "outputs": [],
   "source": [
    "import pandas as pd\n",
    "import numpy as np\n",
    "from pathlib import Path\n",
    "from mbeml.constants import TargetProperty"
   ]
  },
  {
   "cell_type": "code",
   "execution_count": 5,
   "metadata": {},
   "outputs": [],
   "source": [
    "data_dir = Path(\"../../data/\")\n",
    "target = TargetProperty.ORBITALS\n",
    "\n",
    "df_train = pd.read_csv(data_dir / \"training_data.csv\")\n",
    "frontier_orbital_energies = df_train[target.full_name()]"
   ]
  },
  {
   "cell_type": "code",
   "execution_count": 20,
   "metadata": {},
   "outputs": [
    {
     "data": {
      "text/html": [
       "<div>\n",
       "<style scoped>\n",
       "    .dataframe tbody tr th:only-of-type {\n",
       "        vertical-align: middle;\n",
       "    }\n",
       "\n",
       "    .dataframe tbody tr th {\n",
       "        vertical-align: top;\n",
       "    }\n",
       "\n",
       "    .dataframe thead th {\n",
       "        text-align: right;\n",
       "    }\n",
       "</style>\n",
       "<table border=\"1\" class=\"dataframe\">\n",
       "  <thead>\n",
       "    <tr style=\"text-align: right;\">\n",
       "      <th></th>\n",
       "      <th>energetic_homo_ls_eV</th>\n",
       "      <th>energetic_homo_hs_eV</th>\n",
       "      <th>energetic_lumo_ls_eV</th>\n",
       "      <th>energetic_lumo_hs_eV</th>\n",
       "    </tr>\n",
       "  </thead>\n",
       "  <tbody>\n",
       "    <tr>\n",
       "      <th>energetic_homo_ls_eV</th>\n",
       "      <td>1.000</td>\n",
       "      <td>0.992</td>\n",
       "      <td>0.970</td>\n",
       "      <td>0.979</td>\n",
       "    </tr>\n",
       "    <tr>\n",
       "      <th>energetic_homo_hs_eV</th>\n",
       "      <td>0.992</td>\n",
       "      <td>1.000</td>\n",
       "      <td>0.967</td>\n",
       "      <td>0.971</td>\n",
       "    </tr>\n",
       "    <tr>\n",
       "      <th>energetic_lumo_ls_eV</th>\n",
       "      <td>0.970</td>\n",
       "      <td>0.967</td>\n",
       "      <td>1.000</td>\n",
       "      <td>0.979</td>\n",
       "    </tr>\n",
       "    <tr>\n",
       "      <th>energetic_lumo_hs_eV</th>\n",
       "      <td>0.979</td>\n",
       "      <td>0.971</td>\n",
       "      <td>0.979</td>\n",
       "      <td>1.000</td>\n",
       "    </tr>\n",
       "  </tbody>\n",
       "</table>\n",
       "</div>"
      ],
      "text/plain": [
       "                      energetic_homo_ls_eV  energetic_homo_hs_eV  \\\n",
       "energetic_homo_ls_eV                 1.000                 0.992   \n",
       "energetic_homo_hs_eV                 0.992                 1.000   \n",
       "energetic_lumo_ls_eV                 0.970                 0.967   \n",
       "energetic_lumo_hs_eV                 0.979                 0.971   \n",
       "\n",
       "                      energetic_lumo_ls_eV  energetic_lumo_hs_eV  \n",
       "energetic_homo_ls_eV                 0.970                 0.979  \n",
       "energetic_homo_hs_eV                 0.967                 0.971  \n",
       "energetic_lumo_ls_eV                 1.000                 0.979  \n",
       "energetic_lumo_hs_eV                 0.979                 1.000  "
      ]
     },
     "execution_count": 20,
     "metadata": {},
     "output_type": "execute_result"
    }
   ],
   "source": [
    "pd.DataFrame(\n",
    "    np.corrcoef(frontier_orbital_energies.values.T),\n",
    "    columns=frontier_orbital_energies.columns,\n",
    "    index=frontier_orbital_energies.columns\n",
    ").round(3)"
   ]
  },
  {
   "cell_type": "code",
   "execution_count": null,
   "metadata": {},
   "outputs": [],
   "source": []
  }
 ],
 "metadata": {
  "kernelspec": {
   "display_name": "many-body",
   "language": "python",
   "name": "python3"
  },
  "language_info": {
   "codemirror_mode": {
    "name": "ipython",
    "version": 3
   },
   "file_extension": ".py",
   "mimetype": "text/x-python",
   "name": "python",
   "nbconvert_exporter": "python",
   "pygments_lexer": "ipython3",
   "version": "3.8.18"
  }
 },
 "nbformat": 4,
 "nbformat_minor": 2
}
